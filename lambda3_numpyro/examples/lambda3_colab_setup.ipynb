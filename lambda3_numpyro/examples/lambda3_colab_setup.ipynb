{
 "cells": [
  {
   "cell_type": "markdown",
   "metadata": {},
   "source": [
    "# Lambda³ NumPyro Framework - Google Colab Setup\n",
    "\n",
    "This notebook sets up and tests the Lambda³ NumPyro framework in Google Colab."
   ]
  },
  {
   "cell_type": "markdown",
   "metadata": {},
   "source": [
    "## 1. Clone Repository and Install Dependencies"
   ]
  },
  {
   "cell_type": "code",
   "execution_count": null,
   "metadata": {},
   "outputs": [],
   "source": [
    "# Clone the repository\n",
    "!git clone https://github.com/miosync-masa/bayesian-event-detector.git\n",
    "%cd bayesian-event-detector"
   ]
  },
  {
   "cell_type": "code",
   "execution_count": null,
   "metadata": {},
   "outputs": [],
   "source": [
    "# Install required packages\n",
    "!pip install numpy numba jax jaxlib numpyro arviz pandas scikit-learn matplotlib seaborn networkx yfinance"
   ]
  },
  {
   "cell_type": "code",
   "execution_count": null,
   "metadata": {},
   "outputs": [],
   "source": [
    "# Add the lambda3_numpyro directory to Python path\n",
    "import sys\n",
    "sys.path.append('/content/bayesian-event-detector')\n",
    "\n",
    "# Verify JAX installation and GPU availability\n",
    "import jax\n",
    "print(f\"JAX version: {jax.__version__}\")\n",
    "print(f\"JAX backend: {jax.default_backend()}\")\n",
    "print(f\"GPU available: {jax.default_backend() == 'gpu'}\")"
   ]
  },
  {
   "cell_type": "markdown",
   "metadata": {},
   "source": [
    "## 2. Import Lambda³ Modules"
   ]
  },
  {
   "cell_type": "code",
   "execution_count": null,
   "metadata": {},
   "outputs": [],
   "source": [
    "# Import Lambda³ modules\n",
    "from lambda3_numpyro import (\n",
    "    L3Config,\n",
    "    extract_lambda3_features,\n",
    "    analyze_pair,\n",
    "    analyze_multiple_series,\n",
    "    plot_features,\n",
    "    PLOTTING_AVAILABLE\n",
    ")\n",
    "\n",
    "print(f\"Lambda³ NumPyro successfully imported!\")\n",
    "print(f\"Plotting available: {PLOTTING_AVAILABLE}\")"
   ]
  },
  {
   "cell_type": "markdown",
   "metadata": {},
   "source": [
    "## 3. Basic Feature Extraction Test"
   ]
  },
  {
   "cell_type": "code",
   "execution_count": null,
   "metadata": {},
   "outputs": [],
   "source": [
    "# Generate synthetic data\n",
    "import numpy as np\n",
    "\n",
    "np.random.seed(42)\n",
    "n_points = 500\n",
    "t = np.linspace(0, 10*np.pi, n_points)\n",
    "\n",
    "# Create two correlated series with some jumps\n",
    "series_a = np.sin(t) + 0.1 * np.random.randn(n_points)\n",
    "series_b = np.sin(t - 0.5) + 0.1 * np.random.randn(n_points)  # Lagged\n",
    "\n",
    "# Add jumps\n",
    "series_a[100] += 3\n",
    "series_a[300] -= 3\n",
    "series_b[105] += 3\n",
    "series_b[305] -= 3\n",
    "\n",
    "print(f\"Generated {n_points} data points for two series\")"
   ]
  },
  {
   "cell_type": "code",
   "execution_count": null,
   "metadata": {},
   "outputs": [],
   "source": [
    "# Extract features\n",
    "config = L3Config()\n",
    "config.bayesian.draws = 1000  # Reduce for faster testing\n",
    "config.bayesian.tune = 1000\n",
    "config.bayesian.num_chains = 2\n",
    "\n",
    "features_a = extract_lambda3_features(series_a, config, series_name='Series_A')\n",
    "features_b = extract_lambda3_features(series_b, config, series_name='Series_B')\n",
    "\n",
    "print(f\"\\nSeries A:\")\n",
    "print(f\"  Positive jumps (ΔΛC⁺): {features_a.n_pos_jumps}\")\n",
    "print(f\"  Negative jumps (ΔΛC⁻): {features_a.n_neg_jumps}\")\n",
    "print(f\"  Mean tension (ρT): {features_a.mean_tension:.3f}\")\n",
    "\n",
    "print(f\"\\nSeries B:\")\n",
    "print(f\"  Positive jumps (ΔΛC⁺): {features_b.n_pos_jumps}\")\n",
    "print(f\"  Negative jumps (ΔΛC⁻): {features_b.n_neg_jumps}\")\n",
    "print(f\"  Mean tension (ρT): {features_b.mean_tension:.3f}\")"
   ]
  },
  {
   "cell_type": "markdown",
   "metadata": {},
   "source": [
    "## 4. Visualize Features"
   ]
  },
  {
   "cell_type": "code",
   "execution_count": null,
   "metadata": {},
   "outputs": [],
   "source": [
    "# Plot features\n",
    "if PLOTTING_AVAILABLE:\n",
    "    import matplotlib.pyplot as plt\n",
    "    \n",
    "    features_dict = {'Series_A': features_a, 'Series_B': features_b}\n",
    "    plot_features(features_dict, title=\"Lambda³ Features\")\n",
    "    plt.show()"
   ]
  },
  {
   "cell_type": "markdown",
   "metadata": {},
   "source": [
    "## 5. Pairwise Analysis Test"
   ]
  },
  {
   "cell_type": "code",
   "execution_count": null,
   "metadata": {},
   "outputs": [],
   "source": [
    "# Run pairwise analysis\n",
    "print(\"Running pairwise analysis...\")\n",
    "results = analyze_pair(\n",
    "    'Series_A', 'Series_B',\n",
    "    features_a, features_b,\n",
    "    config,\n",
    "    seed=42\n",
    ")\n",
    "\n",
    "print(f\"\\nAnalysis Results:\")\n",
    "print(f\"  Max synchronization rate (σₛ): {results.sync_profile.max_sync_rate:.3f}\")\n",
    "print(f\"  Optimal lag: {results.sync_profile.optimal_lag}\")\n",
    "print(f\"\\nInteraction effects:\")\n",
    "for effect, value in results.interaction_effects.items():\n",
    "    if abs(value) > 0.01:\n",
    "        print(f\"  {effect}: {value:.3f}\")"
   ]
  },
  {
   "cell_type": "markdown",
   "metadata": {},
   "source": [
    "## 6. Test Financial Data Loading"
   ]
  },
  {
   "cell_type": "code",
   "execution_count": null,
   "metadata": {},
   "outputs": [],
   "source": [
    "# Load financial data\n",
    "from lambda3_numpyro import load_financial_data\n",
    "\n",
    "# Download sample financial data\n",
    "tickers = {\n",
    "    \"SPY\": \"SPY\",\n",
    "    \"QQQ\": \"QQQ\",\n",
    "    \"DIA\": \"DIA\"\n",
    "}\n",
    "\n",
    "print(\"Downloading financial data...\")\n",
    "financial_data = load_financial_data(\n",
    "    start_date=\"2023-01-01\",\n",
    "    end_date=\"2023-12-31\",\n",
    "    tickers=tickers,\n",
    "    save_csv=False\n",
    ")\n",
    "\n",
    "print(f\"\\nDownloaded data for: {list(financial_data.keys())}\")\n",
    "for name, data in financial_data.items():\n",
    "    print(f\"  {name}: {len(data)} data points\")"
   ]
  },
  {
   "cell_type": "markdown",
   "metadata": {},
   "source": [
    "## 7. Multi-Series Analysis Test"
   ]
  },
  {
   "cell_type": "code",
   "execution_count": null,
   "metadata": {},
   "outputs": [],
   "source": [
    "# Extract features from financial data\n",
    "from lambda3_numpyro.feature import extract_features_dict\n",
    "\n",
    "print(\"Extracting features from financial data...\")\n",
    "financial_features = extract_features_dict(financial_data, config)\n",
    "\n",
    "# Run cross-analysis\n",
    "print(\"\\nRunning cross-analysis...\")\n",
    "cross_results = analyze_multiple_series(\n",
    "    financial_features,\n",
    "    config,\n",
    "    show_progress=True\n",
    ")\n",
    "\n",
    "print(f\"\\nCross-Analysis Summary:\")\n",
    "print(f\"  Series analyzed: {cross_results.n_series}\")\n",
    "print(f\"  Pairs analyzed: {cross_results.n_pairs}\")\n",
    "print(f\"  Network density: {cross_results.network_density:.1%}\")"
   ]
  },
  {
   "cell_type": "markdown",
   "metadata": {},
   "source": [
    "## 8. Visualize Results"
   ]
  },
  {
   "cell_type": "code",
   "execution_count": null,
   "metadata": {},
   "outputs": [],
   "source": [
    "# Plot interaction matrix\n",
    "if PLOTTING_AVAILABLE:\n",
    "    from lambda3_numpyro.plot import plot_interaction_matrix\n",
    "    \n",
    "    series_names = cross_results.get_series_names()\n",
    "    plot_interaction_matrix(\n",
    "        cross_results.interaction_matrix,\n",
    "        series_names\n",
    "    )\n",
    "    plt.show()"
   ]
  },
  {
   "cell_type": "markdown",
   "metadata": {},
   "source": [
    "## 9. Run Unit Tests"
   ]
  },
  {
   "cell_type": "code",
   "execution_count": null,
   "metadata": {},
   "outputs": [],
   "source": [
    "# Run tests using the command line interface\n",
    "!cd /content/bayesian-event-detector && python -m lambda3_numpyro.main test --type unit --modules feature"
   ]
  },
  {
   "cell_type": "markdown",
   "metadata": {},
   "source": [
    "## 10. Quick Performance Test"
   ]
  },
  {
   "cell_type": "code",
   "execution_count": null,
   "metadata": {},
   "outputs": [],
   "source": [
    "# Test performance with different data sizes\n",
    "import time\n",
    "\n",
    "sizes = [100, 500, 1000, 5000]\n",
    "times = []\n",
    "\n",
    "for size in sizes:\n",
    "    data = np.cumsum(np.random.randn(size))\n",
    "    \n",
    "    start = time.time()\n",
    "    features = extract_lambda3_features(data, config)\n",
    "    elapsed = time.time() - start\n",
    "    \n",
    "    times.append(elapsed)\n",
    "    print(f\"Size {size}: {elapsed:.3f} seconds\")\n",
    "\n",
    "# Plot performance\n",
    "if PLOTTING_AVAILABLE:\n",
    "    plt.figure(figsize=(8, 5))\n",
    "    plt.plot(sizes, times, 'o-')\n",
    "    plt.xlabel('Data Size')\n",
    "    plt.ylabel('Time (seconds)')\n",
    "    plt.title('Feature Extraction Performance')\n",
    "    plt.grid(True)\n",
    "    plt.show()"
   ]
  }
 ],
 "metadata": {
  "kernelspec": {
   "display_name": "Python 3",
   "language": "python",
   "name": "python3"
  },
  "language_info": {
   "codemirror_mode": {
    "name": "ipython",
    "version": 3
   },
   "file_extension": ".py",
   "mimetype": "text/x-python",
   "name": "python",
   "nbconvert_exporter": "python",
   "pygments_lexer": "ipython3",
   "version": "3.8.0"
  }
 },
 "nbformat": 4,
 "nbformat_minor": 4
}
